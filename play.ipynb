{
 "cells": [
  {
   "cell_type": "code",
   "execution_count": 1,
   "metadata": {},
   "outputs": [
    {
     "data": {
      "application/vnd.jupyter.widget-view+json": {
       "model_id": "03b480ffc24243a68f3aaa97f669e3aa",
       "version_major": 2,
       "version_minor": 0
      },
      "text/plain": [
       "Loading checkpoint shards:   0%|          | 0/3 [00:00<?, ?it/s]"
      ]
     },
     "metadata": {},
     "output_type": "display_data"
    }
   ],
   "source": [
    "from transformers import AutoModelForCausalLM, AutoTokenizer\n",
    "import torch\n",
    "allam_model = AutoModelForCausalLM.from_pretrained(\"model\", torch_dtype=torch.float16, device_map=\"auto\")\n",
    "tokenizer = AutoTokenizer.from_pretrained(\"model\")\n",
    "messages=[\n",
    "    {\"role\": \"user\", \"content\": \"كيف أجهز كوب شاهي؟\"},\n",
    "]"
   ]
  },
  {
   "cell_type": "markdown",
   "metadata": {},
   "source": [
    "~15GB Ram"
   ]
  },
  {
   "cell_type": "code",
   "execution_count": 3,
   "metadata": {},
   "outputs": [
    {
     "name": "stderr",
     "output_type": "stream",
     "text": [
      "Setting `pad_token_id` to `eos_token_id`:2 for open-end generation.\n"
     ]
    },
    {
     "name": "stdout",
     "output_type": "stream",
     "text": [
      "[INST] كيف أجهز كوب شاهي؟ [/INST] لإعداد كوب من الشاي اللذيذ، يمكنك اتباع الخطوات التالية:\n",
      "\n",
      "المكونات:\n",
      "1. شاي أسود (حسب الرغبة والكمية المطلوبة)\n",
      "2. ماء (حسب الحاجة)\n",
      "3. سكر أو عسل (حسب الذوق)\n",
      "4. حليب (اختياري)\n",
      "5. أوراق النعناع (اختياري)\n",
      "\n",
      "الخطوات:\n",
      "1. املأ غلاية الشاي بالماء الطازج والغليان واتركها حتى تغلي.\n",
      "2. ضع كمية الشاي الأسود المطلوبة في مصفاة الشاي أو كيس شاي.\n",
      "3. إذا كنت تستخدم مصفاة الشاي، ضعها داخل الكوب الذي تريد تقديم الشاي فيه.\n",
      "4. إذا كنت تستخدم كيس شاي، ضعه مباشرة في الكوب.\n",
      "5. صب الماء المغلي فوق الشاي واتركه ينقع لمدة 2-5 دقائق (حسب الرغبة في قوة الشاي).\n",
      "6. بعد انتهاء النقع، إذا رغبت في إضافة الحليب، ضعه في كوب منفصل وأضف السكر أو العسل حسب الذوق.\n",
      "7. قلب الحليب والسكر حتى يذوب السكر تمامًا.\n",
      "8. صب الحليب المحلى فوق الشاي واتركه يمتزج جيدًا.\n",
      "9. إذا أردت نكهة النعناع، أضف أوراق النعناع الطازجة إلى الكوب وقلبها مع الشاي قبل إضافة الحليب والسكر.\n",
      "10. يمكنك تعديل كمية الشاي والماء والحليب والسكر حسب تفضيلك الشخصي.\n",
      "11. استمتع بكوب الشاي المحضر حديثًا.\n",
      "\n",
      "تذكر أن تعدل مدة النقع وكمية الشاي والماء والحليب والسكر حسب رغبتك الشخصية وقوة الشاي التي تفضلها. \n"
     ]
    }
   ],
   "source": [
    "inputs = tokenizer.apply_chat_template(messages, tokenize=False)\n",
    "inputs = tokenizer(inputs, return_tensors='pt', return_token_type_ids=False)\n",
    "inputs = {k: v.to('cuda') for k,v in inputs.items()}\n",
    "# allam_model = allam_model.to('cuda')\n",
    "response = allam_model.generate(**inputs, max_new_tokens=4096, do_sample=True, top_k=50, top_p=0.95, temperature=.6)\n",
    "print(tokenizer.batch_decode(response, skip_special_tokens=True)[0])"
   ]
  }
 ],
 "metadata": {
  "kernelspec": {
   "display_name": "cloudspace",
   "language": "python",
   "name": "python3"
  },
  "language_info": {
   "codemirror_mode": {
    "name": "ipython",
    "version": 3
   },
   "file_extension": ".py",
   "mimetype": "text/x-python",
   "name": "python",
   "nbconvert_exporter": "python",
   "pygments_lexer": "ipython3",
   "version": "3.10.10"
  }
 },
 "nbformat": 4,
 "nbformat_minor": 2
}
